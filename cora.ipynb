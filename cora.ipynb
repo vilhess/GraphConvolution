{
 "cells": [
  {
   "cell_type": "markdown",
   "metadata": {},
   "source": [
    "# Cora Dataset"
   ]
  },
  {
   "cell_type": "code",
   "execution_count": 1,
   "metadata": {},
   "outputs": [],
   "source": [
    "import numpy as np\n",
    "import matplotlib.pyplot as plt\n",
    "import networkx as nx\n",
    "from torch_geometric.datasets import Planetoid\n",
    "from torch_geometric.utils import to_networkx, to_dense_adj"
   ]
  },
  {
   "cell_type": "code",
   "execution_count": 2,
   "metadata": {},
   "outputs": [
    {
     "name": "stdout",
     "output_type": "stream",
     "text": [
      "num documents : 1433\n",
      "num classes : 7\n",
      "Size information matrix : torch.Size([2708, 1433])\n",
      "Size target vector : torch.Size([2708])\n",
      "Size trainset : 140\n",
      "Size testset : 1000\n",
      "Edges are directed: False\n",
      "Graph has isolated nodes: False\n",
      "Graph has loops: False\n"
     ]
    }
   ],
   "source": [
    "dataset = Planetoid(root=\"data\", name=\"Cora\")\n",
    "\n",
    "print(f\"num documents : {dataset.num_features}\")\n",
    "print(f\"num classes : {dataset.num_classes}\")\n",
    "\n",
    "data = dataset[0]\n",
    "\n",
    "print(f\"Size information matrix : {data.x.shape}\")\n",
    "print(f\"Size target vector : {data.y.shape}\")\n",
    "print(f\"Size trainset : {data.train_mask.sum()}\")\n",
    "print(f\"Size testset : {data.test_mask.sum()}\")\n",
    "\n",
    "print(f'Edges are directed: {data.is_directed()}')\n",
    "print(f'Graph has isolated nodes: {data.has_isolated_nodes()}')\n",
    "print(f'Graph has loops: {data.has_self_loops()}')\n"
   ]
  },
  {
   "cell_type": "code",
   "execution_count": 3,
   "metadata": {},
   "outputs": [],
   "source": [
    "# G = to_networkx(data, to_undirected=True)\n",
    "# plt.figure(figsize=(12,12))\n",
    "# plt.axis('off')\n",
    "# nx.draw_networkx(G,\n",
    "#                 pos=nx.spring_layout(G, seed=0),\n",
    "#                 with_labels=True,\n",
    "#                 node_size=8,\n",
    "#                 node_color=data.y,\n",
    "#                 cmap=\"hsv\",\n",
    "#                 vmin=-2,\n",
    "#                 vmax=3,\n",
    "#                 width=0.8,\n",
    "#                 edge_color=\"grey\",\n",
    "#                 font_size=0\n",
    "#                 )\n",
    "# plt.show()"
   ]
  },
  {
   "cell_type": "markdown",
   "metadata": {},
   "source": [
    "# Graph Convolution Network for Classification"
   ]
  },
  {
   "cell_type": "code",
   "execution_count": 14,
   "metadata": {},
   "outputs": [],
   "source": [
    "import torch\n",
    "import torch.nn as nn\n",
    "import torch.optim as optim\n",
    "from utils import accuracy\n",
    "\n",
    "from model import GCN"
   ]
  },
  {
   "cell_type": "code",
   "execution_count": 22,
   "metadata": {},
   "outputs": [],
   "source": [
    "X = data.x\n",
    "y = data.y\n",
    "A = to_dense_adj(data.edge_index).squeeze(0)\n",
    "\n",
    "train_index = dataset.train_mask==True\n",
    "test_index = dataset.test_mask==True"
   ]
  },
  {
   "cell_type": "code",
   "execution_count": 23,
   "metadata": {},
   "outputs": [],
   "source": [
    "EPOCHS = 100\n",
    "LEARNING_RATE = 1e-2\n",
    "\n",
    "model = GCN(in_channels=dataset.num_features, hidden_dim=16, out_channels=dataset.num_classes, adj = A)\n",
    "criterion = nn.NLLLoss()\n",
    "optimizer = optim.Adam(model.parameters(), lr=LEARNING_RATE, weight_decay=5e-4)"
   ]
  },
  {
   "cell_type": "code",
   "execution_count": 24,
   "metadata": {},
   "outputs": [
    {
     "name": "stdout",
     "output_type": "stream",
     "text": [
      "For epoch 0, Train Accuracy : 0.37857142090797424\n",
      "For epoch 0, Test Accuracy : 0.34599998593330383\n",
      "For epoch 10, Train Accuracy : 0.9642857313156128\n",
      "For epoch 10, Test Accuracy : 0.7350000143051147\n",
      "For epoch 20, Train Accuracy : 0.9857142567634583\n",
      "For epoch 20, Test Accuracy : 0.7900000214576721\n",
      "For epoch 30, Train Accuracy : 1.0\n",
      "For epoch 30, Test Accuracy : 0.7879999876022339\n",
      "For epoch 40, Train Accuracy : 1.0\n",
      "For epoch 40, Test Accuracy : 0.8050000071525574\n",
      "For epoch 50, Train Accuracy : 1.0\n",
      "For epoch 50, Test Accuracy : 0.7929999828338623\n",
      "For epoch 60, Train Accuracy : 1.0\n",
      "For epoch 60, Test Accuracy : 0.7950000166893005\n",
      "For epoch 70, Train Accuracy : 1.0\n",
      "For epoch 70, Test Accuracy : 0.8009999990463257\n",
      "For epoch 80, Train Accuracy : 1.0\n",
      "For epoch 80, Test Accuracy : 0.8009999990463257\n",
      "For epoch 90, Train Accuracy : 1.0\n",
      "For epoch 90, Test Accuracy : 0.796999990940094\n"
     ]
    }
   ],
   "source": [
    "losses = []\n",
    "train_accs = []\n",
    "test_accs = []\n",
    "\n",
    "for epoch in range(EPOCHS):\n",
    "\n",
    "    pred = model(X)\n",
    "    loss = criterion(pred[train_index], y[train_index])\n",
    "\n",
    "    optimizer.zero_grad()\n",
    "    loss.backward()\n",
    "    optimizer.step()\n",
    "\n",
    "    losses.append(loss.detach())\n",
    "\n",
    "    if epoch%10==0:\n",
    "        with torch.no_grad():\n",
    "            model.eval()\n",
    "\n",
    "            preds = model(X)\n",
    "            pred_train, y_train = preds[train_index], y[train_index]\n",
    "            pred_test, y_test = preds[test_index], y[test_index]\n",
    "\n",
    "            train_acc = accuracy(y_train, torch.argmax(pred_train, axis=1))\n",
    "            test_acc = accuracy(y_test, torch.argmax(pred_test, axis=1))\n",
    "            train_accs.append(train_acc)\n",
    "            test_accs.append(test_acc)\n",
    "\n",
    "            print(f\"For epoch {epoch}, Train Accuracy : {train_acc}\")\n",
    "            print(f\"For epoch {epoch}, Test Accuracy : {test_acc}\")\n",
    "\n",
    "            model.train()"
   ]
  },
  {
   "cell_type": "code",
   "execution_count": 25,
   "metadata": {},
   "outputs": [
    {
     "data": {
      "text/plain": [
       "<matplotlib.legend.Legend at 0x16113e990>"
      ]
     },
     "execution_count": 25,
     "metadata": {},
     "output_type": "execute_result"
    },
    {
     "data": {
      "image/png": "[encoded data removed]",
      "text/plain": [
       "<Figure size 640x480 with 1 Axes>"
      ]
     },
     "metadata": {},
     "output_type": "display_data"
    }
   ],
   "source": [
    "plt.plot(train_accs, label='train')\n",
    "plt.plot(test_accs, label = 'test')\n",
    "plt.legend()"
   ]
  },
  {
   "cell_type": "markdown",
   "metadata": {},
   "source": [
    "# Graph Convolution Network for 2D representation"
   ]
  },
  {
   "cell_type": "code",
   "execution_count": 55,
   "metadata": {},
   "outputs": [],
   "source": [
    "EPOCHS = 1000\n",
    "LEARNING_RATE = 1e-2\n",
    "\n",
    "model = GCN(in_channels=dataset.num_features, hidden_dim=2, out_channels=dataset.num_classes, adj = A, return_hidden=True)\n",
    "criterion = nn.NLLLoss()\n",
    "optimizer = optim.Adam(model.parameters(), lr=LEARNING_RATE, weight_decay=5e-4)"
   ]
  },
  {
   "cell_type": "code",
   "execution_count": 56,
   "metadata": {},
   "outputs": [
    {
     "name": "stdout",
     "output_type": "stream",
     "text": [
      "For epoch 0, Train Accuracy : 0.10000000149011612\n",
      "For epoch 0, Test Accuracy : 0.21899999678134918\n",
      "For epoch 10, Train Accuracy : 0.30000001192092896\n",
      "For epoch 10, Test Accuracy : 0.2590000033378601\n",
      "For epoch 20, Train Accuracy : 0.3928571343421936\n",
      "For epoch 20, Test Accuracy : 0.37700000405311584\n",
      "For epoch 30, Train Accuracy : 0.4000000059604645\n",
      "For epoch 30, Test Accuracy : 0.4320000112056732\n",
      "For epoch 40, Train Accuracy : 0.5285714268684387\n",
      "For epoch 40, Test Accuracy : 0.5\n",
      "For epoch 50, Train Accuracy : 0.6142857074737549\n",
      "For epoch 50, Test Accuracy : 0.5270000100135803\n",
      "For epoch 60, Train Accuracy : 0.6928571462631226\n",
      "For epoch 60, Test Accuracy : 0.5320000052452087\n",
      "For epoch 70, Train Accuracy : 0.7928571701049805\n",
      "For epoch 70, Test Accuracy : 0.5460000038146973\n",
      "For epoch 80, Train Accuracy : 0.8357142806053162\n",
      "For epoch 80, Test Accuracy : 0.5609999895095825\n",
      "For epoch 90, Train Accuracy : 0.8714285492897034\n",
      "For epoch 90, Test Accuracy : 0.5740000009536743\n",
      "For epoch 100, Train Accuracy : 0.8714285492897034\n",
      "For epoch 100, Test Accuracy : 0.5759999752044678\n",
      "For epoch 110, Train Accuracy : 0.9142857193946838\n",
      "For epoch 110, Test Accuracy : 0.5809999704360962\n",
      "For epoch 120, Train Accuracy : 0.9357143044471741\n",
      "For epoch 120, Test Accuracy : 0.5870000123977661\n",
      "For epoch 130, Train Accuracy : 0.9714285731315613\n",
      "For epoch 130, Test Accuracy : 0.597000002861023\n",
      "For epoch 140, Train Accuracy : 0.9714285731315613\n",
      "For epoch 140, Test Accuracy : 0.597000002861023\n",
      "For epoch 150, Train Accuracy : 0.9857142567634583\n",
      "For epoch 150, Test Accuracy : 0.6039999723434448\n",
      "For epoch 160, Train Accuracy : 0.9857142567634583\n",
      "For epoch 160, Test Accuracy : 0.5960000157356262\n",
      "For epoch 170, Train Accuracy : 0.9785714149475098\n",
      "For epoch 170, Test Accuracy : 0.5989999771118164\n",
      "For epoch 180, Train Accuracy : 0.9857142567634583\n",
      "For epoch 180, Test Accuracy : 0.593999981880188\n",
      "For epoch 190, Train Accuracy : 0.9928571581840515\n",
      "For epoch 190, Test Accuracy : 0.6119999885559082\n",
      "For epoch 200, Train Accuracy : 0.9857142567634583\n",
      "For epoch 200, Test Accuracy : 0.6060000061988831\n",
      "For epoch 210, Train Accuracy : 0.9857142567634583\n",
      "For epoch 210, Test Accuracy : 0.609000027179718\n",
      "For epoch 220, Train Accuracy : 0.9785714149475098\n",
      "For epoch 220, Test Accuracy : 0.6069999933242798\n",
      "For epoch 230, Train Accuracy : 0.9857142567634583\n",
      "For epoch 230, Test Accuracy : 0.6100000143051147\n",
      "For epoch 240, Train Accuracy : 0.9928571581840515\n",
      "For epoch 240, Test Accuracy : 0.6140000224113464\n",
      "For epoch 250, Train Accuracy : 0.9928571581840515\n",
      "For epoch 250, Test Accuracy : 0.6140000224113464\n",
      "For epoch 260, Train Accuracy : 0.9857142567634583\n",
      "For epoch 260, Test Accuracy : 0.6159999966621399\n",
      "For epoch 270, Train Accuracy : 0.9928571581840515\n",
      "For epoch 270, Test Accuracy : 0.6179999709129333\n",
      "For epoch 280, Train Accuracy : 0.9928571581840515\n",
      "For epoch 280, Test Accuracy : 0.6230000257492065\n",
      "For epoch 290, Train Accuracy : 0.9857142567634583\n",
      "For epoch 290, Test Accuracy : 0.6159999966621399\n",
      "For epoch 300, Train Accuracy : 0.9928571581840515\n",
      "For epoch 300, Test Accuracy : 0.625\n",
      "For epoch 310, Train Accuracy : 0.9928571581840515\n",
      "For epoch 310, Test Accuracy : 0.6230000257492065\n",
      "For epoch 320, Train Accuracy : 0.9928571581840515\n",
      "For epoch 320, Test Accuracy : 0.6209999918937683\n",
      "For epoch 330, Train Accuracy : 0.9928571581840515\n",
      "For epoch 330, Test Accuracy : 0.6230000257492065\n",
      "For epoch 340, Train Accuracy : 0.9928571581840515\n",
      "For epoch 340, Test Accuracy : 0.6240000128746033\n",
      "For epoch 350, Train Accuracy : 0.9928571581840515\n",
      "For epoch 350, Test Accuracy : 0.6150000095367432\n",
      "For epoch 360, Train Accuracy : 0.9928571581840515\n",
      "For epoch 360, Test Accuracy : 0.6140000224113464\n",
      "For epoch 370, Train Accuracy : 0.9857142567634583\n",
      "For epoch 370, Test Accuracy : 0.6320000290870667\n",
      "For epoch 380, Train Accuracy : 0.9928571581840515\n",
      "For epoch 380, Test Accuracy : 0.6259999871253967\n",
      "For epoch 390, Train Accuracy : 0.9928571581840515\n",
      "For epoch 390, Test Accuracy : 0.625\n",
      "For epoch 400, Train Accuracy : 0.9928571581840515\n",
      "For epoch 400, Test Accuracy : 0.6340000033378601\n",
      "For epoch 410, Train Accuracy : 0.9928571581840515\n",
      "For epoch 410, Test Accuracy : 0.6209999918937683\n",
      "For epoch 420, Train Accuracy : 0.9928571581840515\n",
      "For epoch 420, Test Accuracy : 0.6240000128746033\n",
      "For epoch 430, Train Accuracy : 0.9928571581840515\n",
      "For epoch 430, Test Accuracy : 0.6240000128746033\n",
      "For epoch 440, Train Accuracy : 0.9928571581840515\n",
      "For epoch 440, Test Accuracy : 0.6190000176429749\n",
      "For epoch 450, Train Accuracy : 0.9928571581840515\n",
      "For epoch 450, Test Accuracy : 0.625\n",
      "For epoch 460, Train Accuracy : 0.9857142567634583\n",
      "For epoch 460, Test Accuracy : 0.6240000128746033\n",
      "For epoch 470, Train Accuracy : 0.9928571581840515\n",
      "For epoch 470, Test Accuracy : 0.6309999823570251\n",
      "For epoch 480, Train Accuracy : 0.9928571581840515\n",
      "For epoch 480, Test Accuracy : 0.6320000290870667\n",
      "For epoch 490, Train Accuracy : 0.9928571581840515\n",
      "For epoch 490, Test Accuracy : 0.6330000162124634\n",
      "For epoch 500, Train Accuracy : 0.9928571581840515\n",
      "For epoch 500, Test Accuracy : 0.6370000243186951\n",
      "For epoch 510, Train Accuracy : 0.9928571581840515\n",
      "For epoch 510, Test Accuracy : 0.6209999918937683\n",
      "For epoch 520, Train Accuracy : 0.9928571581840515\n",
      "For epoch 520, Test Accuracy : 0.6269999742507935\n",
      "For epoch 530, Train Accuracy : 0.9928571581840515\n",
      "For epoch 530, Test Accuracy : 0.6259999871253967\n",
      "For epoch 540, Train Accuracy : 0.9928571581840515\n",
      "For epoch 540, Test Accuracy : 0.628000020980835\n",
      "For epoch 550, Train Accuracy : 0.9928571581840515\n",
      "For epoch 550, Test Accuracy : 0.6200000047683716\n",
      "For epoch 560, Train Accuracy : 0.9928571581840515\n",
      "For epoch 560, Test Accuracy : 0.621999979019165\n",
      "For epoch 570, Train Accuracy : 0.9928571581840515\n",
      "For epoch 570, Test Accuracy : 0.6320000290870667\n",
      "For epoch 580, Train Accuracy : 0.9928571581840515\n",
      "For epoch 580, Test Accuracy : 0.6309999823570251\n",
      "For epoch 590, Train Accuracy : 0.9928571581840515\n",
      "For epoch 590, Test Accuracy : 0.6259999871253967\n",
      "For epoch 600, Train Accuracy : 0.9928571581840515\n",
      "For epoch 600, Test Accuracy : 0.6240000128746033\n",
      "For epoch 610, Train Accuracy : 0.9928571581840515\n",
      "For epoch 610, Test Accuracy : 0.6320000290870667\n",
      "For epoch 620, Train Accuracy : 0.9928571581840515\n",
      "For epoch 620, Test Accuracy : 0.625\n",
      "For epoch 630, Train Accuracy : 0.9928571581840515\n",
      "For epoch 630, Test Accuracy : 0.628000020980835\n",
      "For epoch 640, Train Accuracy : 0.9928571581840515\n",
      "For epoch 640, Test Accuracy : 0.6330000162124634\n",
      "For epoch 650, Train Accuracy : 0.9928571581840515\n",
      "For epoch 650, Test Accuracy : 0.6299999952316284\n",
      "For epoch 660, Train Accuracy : 0.9928571581840515\n",
      "For epoch 660, Test Accuracy : 0.6309999823570251\n",
      "For epoch 670, Train Accuracy : 0.9928571581840515\n",
      "For epoch 670, Test Accuracy : 0.6179999709129333\n",
      "For epoch 680, Train Accuracy : 0.9928571581840515\n",
      "For epoch 680, Test Accuracy : 0.621999979019165\n",
      "For epoch 690, Train Accuracy : 0.9928571581840515\n",
      "For epoch 690, Test Accuracy : 0.6240000128746033\n",
      "For epoch 700, Train Accuracy : 0.9928571581840515\n",
      "For epoch 700, Test Accuracy : 0.6290000081062317\n",
      "For epoch 710, Train Accuracy : 0.9928571581840515\n",
      "For epoch 710, Test Accuracy : 0.6190000176429749\n",
      "For epoch 720, Train Accuracy : 0.9928571581840515\n",
      "For epoch 720, Test Accuracy : 0.6190000176429749\n",
      "For epoch 730, Train Accuracy : 0.9928571581840515\n",
      "For epoch 730, Test Accuracy : 0.6179999709129333\n",
      "For epoch 740, Train Accuracy : 0.9928571581840515\n",
      "For epoch 740, Test Accuracy : 0.6209999918937683\n",
      "For epoch 750, Train Accuracy : 0.9928571581840515\n",
      "For epoch 750, Test Accuracy : 0.6190000176429749\n",
      "For epoch 760, Train Accuracy : 0.9928571581840515\n",
      "For epoch 760, Test Accuracy : 0.625\n",
      "For epoch 770, Train Accuracy : 0.9928571581840515\n",
      "For epoch 770, Test Accuracy : 0.6320000290870667\n",
      "For epoch 780, Train Accuracy : 0.9928571581840515\n",
      "For epoch 780, Test Accuracy : 0.6259999871253967\n",
      "For epoch 790, Train Accuracy : 0.9928571581840515\n",
      "For epoch 790, Test Accuracy : 0.6209999918937683\n",
      "For epoch 800, Train Accuracy : 0.9928571581840515\n",
      "For epoch 800, Test Accuracy : 0.628000020980835\n",
      "For epoch 810, Train Accuracy : 0.9928571581840515\n",
      "For epoch 810, Test Accuracy : 0.6230000257492065\n",
      "For epoch 820, Train Accuracy : 0.9928571581840515\n",
      "For epoch 820, Test Accuracy : 0.628000020980835\n",
      "For epoch 830, Train Accuracy : 0.9928571581840515\n",
      "For epoch 830, Test Accuracy : 0.6209999918937683\n",
      "For epoch 840, Train Accuracy : 0.9928571581840515\n",
      "For epoch 840, Test Accuracy : 0.6190000176429749\n",
      "For epoch 850, Train Accuracy : 0.9928571581840515\n",
      "For epoch 850, Test Accuracy : 0.6179999709129333\n",
      "For epoch 860, Train Accuracy : 0.9928571581840515\n",
      "For epoch 860, Test Accuracy : 0.6169999837875366\n",
      "For epoch 870, Train Accuracy : 0.9928571581840515\n",
      "For epoch 870, Test Accuracy : 0.6209999918937683\n",
      "For epoch 880, Train Accuracy : 0.9928571581840515\n",
      "For epoch 880, Test Accuracy : 0.621999979019165\n",
      "For epoch 890, Train Accuracy : 0.9928571581840515\n",
      "For epoch 890, Test Accuracy : 0.621999979019165\n",
      "For epoch 900, Train Accuracy : 0.9857142567634583\n",
      "For epoch 900, Test Accuracy : 0.6159999966621399\n",
      "For epoch 910, Train Accuracy : 0.9928571581840515\n",
      "For epoch 910, Test Accuracy : 0.6240000128746033\n",
      "For epoch 920, Train Accuracy : 0.9928571581840515\n",
      "For epoch 920, Test Accuracy : 0.6259999871253967\n",
      "For epoch 930, Train Accuracy : 0.9928571581840515\n",
      "For epoch 930, Test Accuracy : 0.6269999742507935\n",
      "For epoch 940, Train Accuracy : 0.9928571581840515\n",
      "For epoch 940, Test Accuracy : 0.6230000257492065\n",
      "For epoch 950, Train Accuracy : 0.9928571581840515\n",
      "For epoch 950, Test Accuracy : 0.6240000128746033\n",
      "For epoch 960, Train Accuracy : 0.9928571581840515\n",
      "For epoch 960, Test Accuracy : 0.6179999709129333\n",
      "For epoch 970, Train Accuracy : 0.9928571581840515\n",
      "For epoch 970, Test Accuracy : 0.6169999837875366\n",
      "For epoch 980, Train Accuracy : 0.9928571581840515\n",
      "For epoch 980, Test Accuracy : 0.6179999709129333\n",
      "For epoch 990, Train Accuracy : 0.9928571581840515\n",
      "For epoch 990, Test Accuracy : 0.621999979019165\n"
     ]
    }
   ],
   "source": [
    "losses = []\n",
    "train_accs = []\n",
    "test_accs = []\n",
    "\n",
    "for epoch in range(EPOCHS):\n",
    "\n",
    "    pred, z = model(X)\n",
    "    loss = criterion(pred[train_index], y[train_index])\n",
    "\n",
    "    optimizer.zero_grad()\n",
    "    loss.backward()\n",
    "    optimizer.step()\n",
    "\n",
    "    losses.append(loss.detach())\n",
    "\n",
    "    if epoch%10==0:\n",
    "        with torch.no_grad():\n",
    "            model.eval()\n",
    "\n",
    "            preds, z = model(X)\n",
    "            pred_train, y_train = preds[train_index], y[train_index]\n",
    "            pred_test, y_test = preds[test_index], y[test_index]\n",
    "\n",
    "            train_acc = accuracy(y_train, torch.argmax(pred_train, axis=1))\n",
    "            test_acc = accuracy(y_test, torch.argmax(pred_test, axis=1))\n",
    "            train_accs.append(train_acc)\n",
    "            test_accs.append(test_acc)\n",
    "\n",
    "            print(f\"For epoch {epoch}, Train Accuracy : {train_acc}\")\n",
    "            print(f\"For epoch {epoch}, Test Accuracy : {test_acc}\")\n",
    "\n",
    "            model.train()"
   ]
  },
  {
   "cell_type": "code",
   "execution_count": 62,
   "metadata": {},
   "outputs": [
    {
     "data": {
      "text/plain": [
       "<matplotlib.collections.PathCollection at 0x2b112f510>"
      ]
     },
     "execution_count": 62,
     "metadata": {},
     "output_type": "execute_result"
    },
    {
     "data": {
      "image/png": "[encoded data removed]",
      "text/plain": [
       "<Figure size 640x480 with 1 Axes>"
      ]
     },
     "metadata": {},
     "output_type": "display_data"
    }
   ],
   "source": [
    "plt.scatter(z[train_index].T[0].detach(), z[train_index].T[1].detach(), c=y[train_index], s=100)"
   ]
  },
  {
   "cell_type": "code",
   "execution_count": null,
   "metadata": {},
   "outputs": [],
   "source": []
  }
 ],
 "metadata": {
  "kernelspec": {
   "display_name": "base",
   "language": "python",
   "name": "python3"
  },
  "language_info": {
   "codemirror_mode": {
    "name": "ipython",
    "version": 3
   },
   "file_extension": ".py",
   "mimetype": "text/x-python",
   "name": "python",
   "nbconvert_exporter": "python",
   "pygments_lexer": "ipython3",
   "version": "3.11.3"
  }
 },
 "nbformat": 4,
 "nbformat_minor": 2
}
